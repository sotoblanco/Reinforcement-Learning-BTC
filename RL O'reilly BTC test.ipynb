{
 "cells": [
  {
   "cell_type": "code",
   "execution_count": 31,
   "metadata": {},
   "outputs": [],
   "source": [
    "import pandas as pd\n",
    "import matplotlib.pyplot as plt\n",
    "import numpy as np\n",
    "import random\n",
    "from collections import defaultdict\n",
    "import yfinance as yf\n"
   ]
  },
  {
   "cell_type": "code",
   "execution_count": null,
   "metadata": {},
   "outputs": [],
   "source": [
    "# read the csv file by selecting the path\n",
    "path_file = \"D:/Dropbox/Pastor/data/crypto-active_5min/BTC_5min.txt\"\n",
    "btc = pd.read_csv(path_file, header = None, sep = \",\", names = [\"Date\", \"Open\", \"High\", \"Low\", \"Close\", \"Volume\"])\n",
    "btc[\"Date\"] = pd.to_datetime(btc['Date'])\n",
    "btc.set_index('Date', inplace=True)\n",
    "\n",
    "# set a dictionary with the variables and functions to create daily bars\n",
    "ohlcv_dict = {'Open':'first', 'High':'max', 'Low':'min', 'Close': 'last', 'Volume':'sum'}\n",
    "\n",
    "btc = btc.resample('1440Min').apply(ohlcv_dict).dropna()\n",
    "btc.head()\n"
   ]
  },
  {
   "cell_type": "code",
   "execution_count": 61,
   "metadata": {},
   "outputs": [
    {
     "name": "stdout",
     "output_type": "stream",
     "text": [
      "[*********************100%***********************]  1 of 1 completed\n"
     ]
    }
   ],
   "source": [
    "spy = yf.download(tickers=\"SPY\", auto_adjust=True)\n",
    "returns_spy = spy.Close.pct_change().dropna()"
   ]
  },
  {
   "cell_type": "code",
   "execution_count": 67,
   "metadata": {},
   "outputs": [],
   "source": [
    "#returns_spy\n",
    "\n",
    "stock_data = pd.merge(btc, returns_spy, right_index=True, left_index=True ).sort_index()\n",
    "stock_data.columns = [\"Open\", \"High\", \"Low\", \"Close\", \"Volume\", \"returns_spy\"]\n",
    "returns = pd.DataFrame({\n",
    "                        'stocks': stock_data['Close'].rolling(window=2, center=False).apply(lambda x: x[1] / x[0] - 1),\n",
    "                        'tbills': (stock_data['returns_spy']),\n",
    "                                    }, index=stock_data.index).dropna()\n"
   ]
  },
  {
   "cell_type": "code",
   "execution_count": 68,
   "metadata": {},
   "outputs": [
    {
     "data": {
      "text/plain": [
       "<bound method NDFrame.tail of               stocks    tbills\n",
       "Date                          \n",
       "2013-04-02  0.174377  0.004934\n",
       "2013-04-03  0.020192 -0.010139\n",
       "2013-04-04  0.080733  0.004059\n",
       "2013-04-05  0.054250 -0.004491\n",
       "2013-04-08  0.335807  0.006767\n",
       "...              ...       ...\n",
       "2021-10-25  0.039479  0.005363\n",
       "2021-10-26 -0.043528  0.000900\n",
       "2021-10-27 -0.031194 -0.004430\n",
       "2021-10-28  0.036978  0.009649\n",
       "2021-10-29  0.027066  0.002029\n",
       "\n",
       "[2157 rows x 2 columns]>"
      ]
     },
     "execution_count": 68,
     "metadata": {},
     "output_type": "execute_result"
    }
   ],
   "source": [
    "returns.tail"
   ]
  },
  {
   "cell_type": "code",
   "execution_count": 55,
   "metadata": {},
   "outputs": [
    {
     "data": {
      "text/html": [
       "<div>\n",
       "<style scoped>\n",
       "    .dataframe tbody tr th:only-of-type {\n",
       "        vertical-align: middle;\n",
       "    }\n",
       "\n",
       "    .dataframe tbody tr th {\n",
       "        vertical-align: top;\n",
       "    }\n",
       "\n",
       "    .dataframe thead th {\n",
       "        text-align: right;\n",
       "    }\n",
       "</style>\n",
       "<table border=\"1\" class=\"dataframe\">\n",
       "  <thead>\n",
       "    <tr style=\"text-align: right;\">\n",
       "      <th></th>\n",
       "      <th>Open</th>\n",
       "      <th>High</th>\n",
       "      <th>Low</th>\n",
       "      <th>Close</th>\n",
       "      <th>Volume</th>\n",
       "    </tr>\n",
       "    <tr>\n",
       "      <th>Date</th>\n",
       "      <th></th>\n",
       "      <th></th>\n",
       "      <th></th>\n",
       "      <th></th>\n",
       "      <th></th>\n",
       "    </tr>\n",
       "  </thead>\n",
       "  <tbody>\n",
       "    <tr>\n",
       "      <th>1993-01-29</th>\n",
       "      <td>25.735679</td>\n",
       "      <td>25.735679</td>\n",
       "      <td>25.607641</td>\n",
       "      <td>25.717388</td>\n",
       "      <td>1003200</td>\n",
       "    </tr>\n",
       "    <tr>\n",
       "      <th>1993-02-01</th>\n",
       "      <td>25.735667</td>\n",
       "      <td>25.900288</td>\n",
       "      <td>25.735667</td>\n",
       "      <td>25.900288</td>\n",
       "      <td>480500</td>\n",
       "    </tr>\n",
       "    <tr>\n",
       "      <th>1993-02-02</th>\n",
       "      <td>25.882011</td>\n",
       "      <td>25.973467</td>\n",
       "      <td>25.827137</td>\n",
       "      <td>25.955175</td>\n",
       "      <td>201300</td>\n",
       "    </tr>\n",
       "    <tr>\n",
       "      <th>1993-02-03</th>\n",
       "      <td>25.991755</td>\n",
       "      <td>26.247831</td>\n",
       "      <td>25.973463</td>\n",
       "      <td>26.229540</td>\n",
       "      <td>529400</td>\n",
       "    </tr>\n",
       "    <tr>\n",
       "      <th>1993-02-04</th>\n",
       "      <td>26.320978</td>\n",
       "      <td>26.394143</td>\n",
       "      <td>26.028320</td>\n",
       "      <td>26.339270</td>\n",
       "      <td>531500</td>\n",
       "    </tr>\n",
       "    <tr>\n",
       "      <th>...</th>\n",
       "      <td>...</td>\n",
       "      <td>...</td>\n",
       "      <td>...</td>\n",
       "      <td>...</td>\n",
       "      <td>...</td>\n",
       "    </tr>\n",
       "    <tr>\n",
       "      <th>2021-11-12</th>\n",
       "      <td>465.119995</td>\n",
       "      <td>467.859985</td>\n",
       "      <td>464.109985</td>\n",
       "      <td>467.269989</td>\n",
       "      <td>53423300</td>\n",
       "    </tr>\n",
       "    <tr>\n",
       "      <th>2021-11-15</th>\n",
       "      <td>468.640015</td>\n",
       "      <td>468.809998</td>\n",
       "      <td>466.230011</td>\n",
       "      <td>467.429993</td>\n",
       "      <td>46980500</td>\n",
       "    </tr>\n",
       "    <tr>\n",
       "      <th>2021-11-16</th>\n",
       "      <td>467.149994</td>\n",
       "      <td>470.489990</td>\n",
       "      <td>467.070007</td>\n",
       "      <td>469.279999</td>\n",
       "      <td>48857500</td>\n",
       "    </tr>\n",
       "    <tr>\n",
       "      <th>2021-11-17</th>\n",
       "      <td>469.000000</td>\n",
       "      <td>469.190002</td>\n",
       "      <td>467.480011</td>\n",
       "      <td>468.140015</td>\n",
       "      <td>47858300</td>\n",
       "    </tr>\n",
       "    <tr>\n",
       "      <th>2021-11-18</th>\n",
       "      <td>469.239990</td>\n",
       "      <td>470.010010</td>\n",
       "      <td>466.339996</td>\n",
       "      <td>469.730011</td>\n",
       "      <td>50627107</td>\n",
       "    </tr>\n",
       "  </tbody>\n",
       "</table>\n",
       "<p>7256 rows × 5 columns</p>\n",
       "</div>"
      ],
      "text/plain": [
       "                  Open        High         Low       Close    Volume\n",
       "Date                                                                \n",
       "1993-01-29   25.735679   25.735679   25.607641   25.717388   1003200\n",
       "1993-02-01   25.735667   25.900288   25.735667   25.900288    480500\n",
       "1993-02-02   25.882011   25.973467   25.827137   25.955175    201300\n",
       "1993-02-03   25.991755   26.247831   25.973463   26.229540    529400\n",
       "1993-02-04   26.320978   26.394143   26.028320   26.339270    531500\n",
       "...                ...         ...         ...         ...       ...\n",
       "2021-11-12  465.119995  467.859985  464.109985  467.269989  53423300\n",
       "2021-11-15  468.640015  468.809998  466.230011  467.429993  46980500\n",
       "2021-11-16  467.149994  470.489990  467.070007  469.279999  48857500\n",
       "2021-11-17  469.000000  469.190002  467.480011  468.140015  47858300\n",
       "2021-11-18  469.239990  470.010010  466.339996  469.730011  50627107\n",
       "\n",
       "[7256 rows x 5 columns]"
      ]
     },
     "execution_count": 55,
     "metadata": {},
     "output_type": "execute_result"
    }
   ],
   "source": [
    "spy"
   ]
  },
  {
   "cell_type": "code",
   "execution_count": 30,
   "metadata": {},
   "outputs": [],
   "source": [
    "class QTrader(object):\n",
    "    def __init__(self):\n",
    "        \n",
    "        path_file = \"D:/Dropbox/Pastor/data/crypto-active_5min/BTC_5min.txt\"\n",
    "        btc = pd.read_csv(path_file, header = None, sep = \",\", names = [\"Date\", \"Open\", \"High\", \"Low\", \"Close\", \"Volume\"])\n",
    "        btc[\"Date\"] = pd.to_datetime(btc['Date'])\n",
    "        btc.set_index('Date', inplace=True)\n",
    "        spy = yf.download(tickers=\"SPY\", auto_adjust=True)\n",
    "        returns_spy = spy.Close.pct_change().dropna()\n",
    "      \n",
    "        self.stock_data = pd.merge(btc, returns_spy, right_index=True, left_index=True ).sort_index()\n",
    "        self.stock_data.columns = [\"Open\", \"High\", \"Low\", \"Close\", \"Volume\", \"returns_spy\"]\n",
    "        self.returns = pd.DataFrame({\n",
    "                        'stocks': self.stock_data['Close'].rolling(window=2, center=False).apply(lambda x: x[1] / x[0] - 1),\n",
    "                        'spy': (self.stock_data['returns_spy']),\n",
    "                                    }, index=self.stock_data.index).dropna()\n",
    "\n",
    "        self.returns['risk_adjusted'] = self.returns.stocks - self.returns.spy\n",
    "\n",
    "        self.returns['risk_adjusted_moving'] = self.returns.risk_adjusted.rolling(window=12).apply(lambda x: x.mean())\n",
    "        self.returns['risk_adjusted_stedv'] = self.returns.risk_adjusted.rolling(window=12).apply(lambda x: x.std())\n",
    "        self.returns['risk_adjusted_high']  = self.returns.risk_adjusted_moving + 1.5 * self.returns.risk_adjusted_stedv\n",
    "        self.returns['risk_adjusted_low'] = self.returns.risk_adjusted_moving - 1.5 * self.returns.risk_adjusted_stedv\n",
    "        \n",
    "        self.returns['state'] = (self.returns.risk_adjusted > self.returns.risk_adjusted_high).astype('int') - \\\n",
    "                                (self.returns.risk_adjusted < self.returns.risk_adjusted_high).astype('int')\n",
    "\n",
    "        # 12 weeks of data\n",
    "        # what's the high average\n",
    "        # what's the low average\n",
    "        # if the return is higher than the average high -> 1\n",
    "        # if the return is lower than the average low -> -1\n",
    "\n",
    "    def buy_and_hold(self, dates):\n",
    "        return pd.Series(1, index = dates)\n",
    "\n",
    "    def buy_spy(self, dates):\n",
    "        return pd.Series(0, index = dates)\n",
    "\n",
    "    def random(self, dates):\n",
    "        return pd.Series(np.random.randint(-1, 2, size = len(dates)), index = dates)\n",
    "\n",
    "    def calc_returns(self, holdings):\n",
    "        return pd.Series(self.returns.spy + holdings * self.returns.risk_adjusted, index=holdings.index)\n",
    "\n",
    "    def evaluate(self, holdings):\n",
    "        return pd.Series(self.calc_returns(holdings) + 1).cumprod()\n",
    "\n",
    "    def q_holdings(self, training_indexes, testing_indexes):\n",
    "        factors = pd.DataFrame({'action': 0, 'reward': 0, 'state':0}, index = training_indexes)\n",
    "        \n",
    "\n",
    "        q = {0: {1:0, 0:0, -1:0}}\n",
    "\n",
    "        for i in range(100): # this loop iterates 100 times or until convergence is reach over the training data \n",
    "            last_row, last_date = None, None\n",
    "\n",
    "            for date, row in factors.iterrows():\n",
    "                return_data = self.returns.loc[date]\n",
    "\n",
    "                if return_data.state not in q:\n",
    "                    q[return_data.state] = {1:0, 0:0, -1:0}\n",
    "\n",
    "                if last_row is None or np.isnan(return_data.state):\n",
    "                    state = 0\n",
    "                    reward = 0\n",
    "                    action = 0\n",
    "\n",
    "                else:\n",
    "                    state = int(return_data.state)\n",
    "\n",
    "                    # we add randomness to the state every 0.1% of the time\n",
    "                    if random.random() > 0.001:\n",
    "                        action = max(q[state], key=q[state].get)\n",
    "                    else:\n",
    "                        action = random.randint(-1, 1)\n",
    "\n",
    "                    reward = last_row.action * (return_data.stocks - return_data.spy)\n",
    "\n",
    "                    factors.loc[date, 'reward'] = reward\n",
    "                    factors.loc[date, 'action'] = action\n",
    "                    factors.loc[date, 'state'] = return_data.state\n",
    "\n",
    "                    alpha = 1 # can be customize, so you can try 0.0001 if you want\n",
    "                    discount = 0.9\n",
    "\n",
    "                    update = alpha * (factors.loc[date, 'reward'] + discount * max(q[row.state].values()) - q[state][action])\n",
    "\n",
    "                    if not np.isnan(update):\n",
    "                        q[state][action] += update\n",
    "\n",
    "                    \n",
    "                last_date, last_row = date, factors.loc[date]\n",
    "\n",
    "            sharpe = self.sharpe(factors.action)\n",
    "\n",
    "            if sharpe > 0.20:\n",
    "                break\n",
    "\n",
    "            print(f'For episode {i} we get an internal sharpe ratio of {self.sharpe(factors.action)}')\n",
    "\n",
    "        testing = pd.DataFrame({'action': 0, 'state': 0}, index = testing_indexes)\n",
    "        testing['state'] = self.returns.loc[testing_indexes, 'state']\n",
    "        testing['action'] = testing['state'].apply(lambda state: max(q[state], key = q[state].get))\n",
    "\n",
    "        return testing.action\n",
    "\n",
    "    def sharpe(self, holdings):\n",
    "        returns = holdings * (self.returns.stocks - self.returns.spy)\n",
    "        return np.nanmean(returns) / np.nanstd(returns)\n",
    "\n",
    "      \n",
    "    def graph_portfolios(self):\n",
    "        midpoint = int(len(self.returns.index) / 2)\n",
    "        training_indexes = self.returns.index[:midpoint]\n",
    "        testing_indexes = self.returns.index[midpoint:]\n",
    "\n",
    "        portfolios = pd.DataFrame({'buy_and_hold': self.buy_and_hold(testing_indexes),\n",
    "                                    'buy_spy':     self.buy_spy(testing_indexes),\n",
    "                                   'random':       self.random(testing_indexes),\n",
    "                                   'qtrader':      self.q_holdings(training_indexes, testing_indexes)\n",
    "                                    }, index=testing_indexes)\n",
    "\n",
    "        portfolio_values = pd.DataFrame({\n",
    "            'buy_and_hold':     self.evaluate(portfolios.buy_and_hold),\n",
    "            'buy_spy':          self.evaluate(portfolios.buy_spy),\n",
    "            'random':           self.evaluate(portfolios.random),\n",
    "            'qtrader':          self.evaluate(portfolios.qtrader)\n",
    "        }, index=testing_indexes)\n",
    "\n",
    "        portfolio_values.plot()\n",
    "\n",
    "        plt.annotate('Buy and Hold sharpe ratio: {} \\n QTrader: {}'.format(self.sharpe(portfolios.buy_and_hold), self.sharpe(portfolios.qtrader)), xy=(0.25, 0.95),\n",
    "        xycoords=\"axes fraction\")\n",
    "\n",
    "        plt.show()\n",
    "    "
   ]
  },
  {
   "cell_type": "code",
   "execution_count": 32,
   "metadata": {},
   "outputs": [
    {
     "name": "stdout",
     "output_type": "stream",
     "text": [
      "[*********************100%***********************]  1 of 1 completed\n"
     ]
    }
   ],
   "source": [
    "q = QTrader()\n"
   ]
  },
  {
   "cell_type": "code",
   "execution_count": 36,
   "metadata": {},
   "outputs": [
    {
     "data": {
      "text/plain": [
       "<bound method QTrader.buy_and_hold of <__main__.QTrader object at 0x0000023AC4C7D550>>"
      ]
     },
     "execution_count": 36,
     "metadata": {},
     "output_type": "execute_result"
    }
   ],
   "source": [
    "buy_hold = q.buy_and_hold\n",
    "buy_hold"
   ]
  },
  {
   "cell_type": "code",
   "execution_count": 33,
   "metadata": {},
   "outputs": [
    {
     "name": "stdout",
     "output_type": "stream",
     "text": [
      "For episode 0 we get an internal sharpe ratio of 0.06365490416244422\n",
      "For episode 1 we get an internal sharpe ratio of 0.0129242169350829\n",
      "For episode 2 we get an internal sharpe ratio of 0.07811475038694739\n",
      "For episode 3 we get an internal sharpe ratio of 0.07811475038694739\n",
      "For episode 4 we get an internal sharpe ratio of 0.07253515555154887\n",
      "For episode 5 we get an internal sharpe ratio of 0.17695942233544487\n",
      "For episode 6 we get an internal sharpe ratio of 0.18942027143442006\n",
      "For episode 7 we get an internal sharpe ratio of 0.1968830599572485\n",
      "For episode 8 we get an internal sharpe ratio of 0.13054878615722376\n",
      "For episode 9 we get an internal sharpe ratio of -0.024419545893111162\n",
      "For episode 10 we get an internal sharpe ratio of 0.07811475038694739\n",
      "For episode 11 we get an internal sharpe ratio of 0.07811475038694739\n",
      "For episode 12 we get an internal sharpe ratio of 0.07811475038694739\n",
      "For episode 13 we get an internal sharpe ratio of 0.104397008180181\n",
      "For episode 14 we get an internal sharpe ratio of 0.14894154596779924\n",
      "For episode 15 we get an internal sharpe ratio of 0.12394048905673094\n",
      "For episode 16 we get an internal sharpe ratio of 0.1023898486667843\n",
      "For episode 17 we get an internal sharpe ratio of 0.1816990178395307\n"
     ]
    },
    {
     "data": {
      "image/png": "[encoded data removed]",
      "text/plain": [
       "<Figure size 432x288 with 1 Axes>"
      ]
     },
     "metadata": {
      "needs_background": "light"
     },
     "output_type": "display_data"
    }
   ],
   "source": [
    "q.graph_portfolios()"
   ]
  },
  {
   "cell_type": "markdown",
   "metadata": {},
   "source": []
  }
 ],
 "metadata": {
  "interpreter": {
   "hash": "018856fe8cea192e9aca0ec6d319ce5aaed29515e0139f12e4cf38054a146782"
  },
  "kernelspec": {
   "display_name": "Python 3.8.8 64-bit ('py38': conda)",
   "language": "python",
   "name": "python3"
  },
  "language_info": {
   "codemirror_mode": {
    "name": "ipython",
    "version": 3
   },
   "file_extension": ".py",
   "mimetype": "text/x-python",
   "name": "python",
   "nbconvert_exporter": "python",
   "pygments_lexer": "ipython3",
   "version": "3.8.8"
  },
  "orig_nbformat": 4
 },
 "nbformat": 4,
 "nbformat_minor": 2
}
