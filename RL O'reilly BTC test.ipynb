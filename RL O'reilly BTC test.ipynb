{
 "cells": [
  {
   "cell_type": "code",
   "execution_count": 3,
   "metadata": {},
   "outputs": [],
   "source": [
    "import pandas as pd\n",
    "import matplotlib.pyplot as plt\n",
    "import numpy as np\n",
    "import random\n",
    "from collections import defaultdict\n",
    "import yfinance as yf\n"
   ]
  },
  {
   "cell_type": "code",
   "execution_count": null,
   "metadata": {},
   "outputs": [],
   "source": [
    "# read the csv file by selecting the path\n",
    "path_file = \"D:/Dropbox/Pastor/data/crypto-active_5min/BTC_5min.txt\"\n",
    "btc = pd.read_csv(path_file, header = None, sep = \",\", names = [\"Date\", \"Open\", \"High\", \"Low\", \"Close\", \"Volume\"])\n",
    "btc[\"Date\"] = pd.to_datetime(btc['Date'])\n",
    "btc.set_index('Date', inplace=True)\n",
    "\n",
    "# set a dictionary with the variables and functions to create daily bars\n",
    "ohlcv_dict = {'Open':'first', 'High':'max', 'Low':'min', 'Close': 'last', 'Volume':'sum'}\n",
    "\n",
    "btc = btc.resample('1440Min').apply(ohlcv_dict).dropna()\n",
    "btc.head()\n"
   ]
  },
  {
   "cell_type": "code",
   "execution_count": 67,
   "metadata": {},
   "outputs": [],
   "source": [
    "#returns_spy\n",
    "\n",
    "stock_data = pd.merge(btc, returns_spy, right_index=True, left_index=True ).sort_index()\n",
    "stock_data.columns = [\"Open\", \"High\", \"Low\", \"Close\", \"Volume\", \"returns_spy\"]\n",
    "returns = pd.DataFrame({\n",
    "                        'stocks': stock_data['Close'].rolling(window=2, center=False).apply(lambda x: x[1] / x[0] - 1),\n",
    "                        'tbills': (stock_data['returns_spy']),\n",
    "                                    }, index=stock_data.index).dropna()\n"
   ]
  },
  {
   "cell_type": "code",
   "execution_count": 29,
   "metadata": {},
   "outputs": [],
   "source": [
    "class QTrader():\n",
    "\n",
    "\n",
    "    def __init__(self, btc, returns_spy):\n",
    "\n",
    "        self.btc = btc\n",
    "        self.returns_spy = returns_spy\n",
    "\n",
    "        #btc = yf.download(tickers=\"BTC\", auto_adjust = True)\n",
    "        #spy = yf.download(tickers=\"SPY\", auto_adjust=True)\n",
    "       \n",
    "      \n",
    "        self.stock_data = pd.merge(self.btc, self.returns_spy, right_index=True, left_index=True ).sort_index()\n",
    "        self.stock_data.columns = [\"Open\", \"High\", \"Low\", \"Close\", \"Volume\", \"returns_spy\"]\n",
    "        self.returns = pd.DataFrame({\n",
    "                        'stocks': self.stock_data['Close'].rolling(window=2, center=False).apply(lambda x: x[1] / x[0] - 1),\n",
    "                        'spy': (self.stock_data['returns_spy']),\n",
    "                                    }, index=self.stock_data.index).dropna()\n",
    "\n",
    "        self.returns['risk_adjusted'] = self.returns.stocks - self.returns.spy\n",
    "\n",
    "        self.returns['risk_adjusted_moving'] = self.returns.risk_adjusted.rolling(window=12).apply(lambda x: x.mean())\n",
    "        self.returns['risk_adjusted_stedv'] = self.returns.risk_adjusted.rolling(window=12).apply(lambda x: x.std())\n",
    "        self.returns['risk_adjusted_high']  = self.returns.risk_adjusted_moving + 1.5 * self.returns.risk_adjusted_stedv\n",
    "        self.returns['risk_adjusted_low'] = self.returns.risk_adjusted_moving - 1.5 * self.returns.risk_adjusted_stedv\n",
    "        \n",
    "        self.returns['state'] = (self.returns.risk_adjusted > self.returns.risk_adjusted_high).astype('int') - \\\n",
    "                                (self.returns.risk_adjusted < self.returns.risk_adjusted_low).astype('int')\n",
    "\n",
    "        # 12 weeks of data\n",
    "        # what's the high average\n",
    "        # what's the low average\n",
    "        # if the return is higher than the average high -> 1\n",
    "        # if the return is lower than the average low -> -1\n",
    "\n",
    "    def buy_and_hold(self, dates):\n",
    "        return pd.Series(1, index = dates)\n",
    "\n",
    "    def buy_spy(self, dates):\n",
    "        return pd.Series(0, index = dates)\n",
    "\n",
    "    def random(self, dates):\n",
    "        return pd.Series(np.random.randint(-1, 2, size = len(dates)), index = dates)\n",
    "\n",
    "    def calc_returns(self, holdings):\n",
    "        return pd.Series(self.returns.spy + holdings * self.returns.risk_adjusted, index=holdings.index)\n",
    "\n",
    "    def evaluate(self, holdings):\n",
    "        return pd.Series(self.calc_returns(holdings) + 1).cumprod()\n",
    "\n",
    "    def q_holdings(self, training_indexes, testing_indexes):\n",
    "        factors = pd.DataFrame({'action': 0, 'reward': 0, 'state':0}, index = training_indexes)     \n",
    "\n",
    "        # value Iteration\n",
    "        # Q-Learning\n",
    "        # iterating on State, Action, Reward, and State prime\n",
    "        q = {0: {1:0, 0:0, -1:0}}\n",
    "\n",
    "        # Learning Q is expensive\n",
    "        # Dyna\n",
    "        T = np.zeros((3, 3, 3)) + 0.0001\n",
    "        R = np.zeros((3, 3))\n",
    "        #Learn Q \n",
    "        # Update a model Transitions and also Rewards\n",
    "        # \"Hallucinate\"\n",
    "\n",
    "\n",
    "\n",
    "        for i in range(100): # this loop iterates 100 times or until convergence is reach over the training data \n",
    "            last_row, last_date = None, None\n",
    "\n",
    "            for date, row in factors.iterrows():\n",
    "                return_data = self.returns.loc[date]\n",
    "\n",
    "                if return_data.state not in q:\n",
    "                    q[return_data.state] = {1:0, 0:0, -1:0}\n",
    "\n",
    "                if last_row is None or np.isnan(return_data.state):\n",
    "                    state = 0\n",
    "                    reward = 0\n",
    "                    action = 0\n",
    "\n",
    "                else:\n",
    "                    state = int(return_data.state)\n",
    "\n",
    "                    # we add randomness to the state every 0.1% of the time\n",
    "                    if random.random() > 0.001:\n",
    "                        action = max(q[state], key=q[state].get)\n",
    "                    else:\n",
    "                        action = random.randint(-1, 1)\n",
    "\n",
    "                    reward = last_row.action * (return_data.stocks - return_data.spy)\n",
    "\n",
    "                    factors.loc[date, 'reward'] = reward\n",
    "                    factors.loc[date, 'action'] = action\n",
    "                    factors.loc[date, 'state'] = return_data.state\n",
    "\n",
    "                    alpha = 0.01 # can be customize, so you can try 0.0001 if you want\n",
    "                    discount = 0.9\n",
    "\n",
    "                    update = alpha * (factors.loc[date, 'reward'] + discount * max(q[row.state].values()) - q[state][action])\n",
    "\n",
    "                    if not np.isnan(update):\n",
    "                        q[state][action] += update\n",
    "\n",
    "                    # Dyna\n",
    "                    action_idx = int(last_row.action + 1)\n",
    "                    state_idx = int(last_row.state + 1)\n",
    "                    new_state_idx = int(state + 1)\n",
    "\n",
    "                    T[state_idx][action_idx][state_idx] += 1\n",
    "\n",
    "                    R[state_idx][action_idx] = (1-alpha) * R[state_idx][action_idx] + alpha * reward\n",
    "\n",
    "\n",
    "                    \n",
    "                last_date, last_row = date, factors.loc[date]\n",
    "\n",
    "            for j in range(100):\n",
    "                state_idx = random.randint(0, 2)\n",
    "                action_idx = random.randint(0, 2)\n",
    "                new_state = np.random.choice([-1, 0, 1], 1, p=T[state_idx][action_idx]/T[state_idx][action_idx].sum())[0]\n",
    "\n",
    "                r = R[state_idx][action_idx]\n",
    "                q[state][action] += alpha * (r + discount * max(q[new_state].values()) - q[state][action])\n",
    "\n",
    "            sharpe = self.sharpe(factors.action)\n",
    "\n",
    "            if sharpe > 1.20:\n",
    "                break\n",
    "\n",
    "            print(f'For episode {i} we get an internal sharpe ratio of {self.sharpe(factors.action)}')\n",
    "\n",
    "        testing = pd.DataFrame({'action': 0, 'state': 0}, index = testing_indexes)\n",
    "        testing['state'] = self.returns.loc[testing_indexes, 'state']\n",
    "        testing['action'] = testing['state'].apply(lambda state: max(q[state], key = q[state].get))\n",
    "\n",
    "        return testing.action\n",
    "\n",
    "    def sharpe(self, holdings):\n",
    "        returns = holdings * (self.returns.stocks - self.returns.spy)\n",
    "        return np.nanmean(returns) / np.nanstd(returns)\n",
    "\n",
    "    def results_trades(self, buy_or_evaluate):\n",
    "\n",
    "        midpoint = int(len(self.returns.index) / 2)\n",
    "        training_indexes = self.returns.index[:midpoint]\n",
    "        testing_indexes = self.returns.index[midpoint:]\n",
    "\n",
    "        self.portfolios = pd.DataFrame({'buy_and_hold': self.buy_and_hold(testing_indexes),\n",
    "                                    'buy_spy':     self.buy_spy(testing_indexes),\n",
    "                                   'random':       self.random(testing_indexes),\n",
    "                                   'qtrader':      self.q_holdings(training_indexes, testing_indexes)\n",
    "                                    }, index=testing_indexes)\n",
    "\n",
    "        self.portfolio_values = pd.DataFrame({\n",
    "            'buy_and_hold':     self.evaluate(self.portfolios.buy_and_hold),\n",
    "            'buy_spy':          self.evaluate(self.portfolios.buy_spy),\n",
    "            'random':           self.evaluate(self.portfolios.random),\n",
    "            'qtrader':          self.evaluate(self.portfolios.qtrader)\n",
    "        }, index=testing_indexes)  \n",
    "\n",
    "        if buy_or_evaluate == \"buy\":\n",
    "            return self.portfolios\n",
    "        elif buy_or_evaluate == \"evaluate\":\n",
    "            return self.portfolio_values\n",
    "\n",
    "\n",
    "      \n",
    "    def graph_portfolios(self):\n",
    "        midpoint = int(len(self.returns.index) / 2)\n",
    "        training_indexes = self.returns.index[:midpoint]\n",
    "        testing_indexes = self.returns.index[midpoint:]\n",
    "\n",
    "        portfolios = pd.DataFrame({'buy_and_hold': self.buy_and_hold(testing_indexes),\n",
    "                                    'buy_spy':     self.buy_spy(testing_indexes),\n",
    "                                   'random':       self.random(testing_indexes),\n",
    "                                   'qtrader':      self.q_holdings(training_indexes, testing_indexes)\n",
    "                                    }, index=testing_indexes)\n",
    "\n",
    "        portfolio_values = pd.DataFrame({\n",
    "            'buy_and_hold':     self.evaluate(portfolios.buy_and_hold),\n",
    "            'buy_spy':          self.evaluate(portfolios.buy_spy),\n",
    "            'random':           self.evaluate(portfolios.random),\n",
    "            'qtrader':          self.evaluate(portfolios.qtrader)\n",
    "        }, index=testing_indexes)\n",
    "\n",
    "        portfolio_values.plot()\n",
    "\n",
    "        plt.annotate('Buy and Hold sharpe ratio: {} \\n QTrader: {}'.format(self.sharpe(portfolios.buy_and_hold), self.sharpe(portfolios.qtrader)), xy=(0.25, 0.95),\n",
    "        xycoords=\"axes fraction\")\n",
    "\n",
    "        plt.show()\n",
    "\n",
    "\n",
    "    "
   ]
  },
  {
   "cell_type": "code",
   "execution_count": 30,
   "metadata": {},
   "outputs": [],
   "source": [
    "# set a dictionary with the variables and functions to create daily bars\n",
    "ohlcv_dict = {'Open':'first', 'High':'max', 'Low':'min', 'Close': 'last', 'Volume':'sum'}\n",
    "\n",
    "#path_file = \"D:/Dropbox/Pastor/data/crypto-active_5min/BTC_5min.txt\"\n",
    "#btc = pd.read_csv(path_file, header = None, sep = \",\", names = [\"Date\", \"Open\", \"High\", \"Low\", \"Close\", \"Volume\"])\n",
    "path_file_es = \"D:/Dropbox/Pastor/data/futures_unadjusted_5/ES_continuous_UNadjusted_5min.txt\"\n",
    "spy = pd.read_csv(path_file_es, header = None, sep = \",\", names = [\"Date\", \"Open\", \"High\", \"Low\", \"Close\", \"Volume\"])\n",
    "spy[\"Date\"] = pd.to_datetime(spy['Date'])\n",
    "spy.set_index('Date', inplace=True)\n",
    "spy = spy.resample('1440Min').apply(ohlcv_dict).dropna()\n",
    "returns_spy = spy.Close.pct_change().dropna()\n",
    "\n",
    "\n",
    "path_file_nq = \"D:/Dropbox/Pastor/data/futures_unadjusted_5/NQ_continuous_UNadjusted_5min.txt\"\n",
    "btc = pd.read_csv(path_file_nq, header = None, sep = \",\", names = [\"Date\", \"Open\", \"High\", \"Low\", \"Close\", \"Volume\"])\n",
    "btc[\"Date\"] = pd.to_datetime(btc['Date'])             \n",
    "btc.set_index('Date', inplace=True)\n",
    "btc = btc.resample('1440Min').apply(ohlcv_dict).dropna()\n",
    "\n",
    "\n",
    "q = QTrader(btc, returns_spy)\n"
   ]
  },
  {
   "cell_type": "code",
   "execution_count": null,
   "metadata": {},
   "outputs": [],
   "source": [
    "def get_data(test_stock, free_risk):\n",
    "    test_stock = test_stock.upper()\n",
    "    free_risk = free_risk.upper()\n",
    "\n",
    "    btc = yf.download(tickers=test_stock, auto_adjust = True)\n",
    "    spy = yf.download(tickers=free_risk, auto_adjust=True)"
   ]
  },
  {
   "cell_type": "code",
   "execution_count": 33,
   "metadata": {},
   "outputs": [
    {
     "name": "stdout",
     "output_type": "stream",
     "text": [
      "For episode 0 we get an internal sharpe ratio of -0.005110271201562112\n"
     ]
    },
    {
     "name": "stderr",
     "output_type": "stream",
     "text": [
      "C:\\Users\\Pastor\\AppData\\Local\\Temp/ipykernel_5016/136452210.py:142: RuntimeWarning: invalid value encountered in double_scalars\n",
      "  return np.nanmean(returns) / np.nanstd(returns)\n"
     ]
    },
    {
     "name": "stdout",
     "output_type": "stream",
     "text": [
      "For episode 1 we get an internal sharpe ratio of nan\n",
      "For episode 2 we get an internal sharpe ratio of -0.010217224389602155\n",
      "For episode 3 we get an internal sharpe ratio of 0.03701421404209494\n",
      "For episode 4 we get an internal sharpe ratio of -0.037325847379525726\n",
      "For episode 5 we get an internal sharpe ratio of 0.01992573881112292\n",
      "For episode 6 we get an internal sharpe ratio of 0.10076631208427352\n"
     ]
    }
   ],
   "source": [
    "trades = q.results_trades(\"buy\")"
   ]
  },
  {
   "cell_type": "code",
   "execution_count": 32,
   "metadata": {},
   "outputs": [
    {
     "name": "stdout",
     "output_type": "stream",
     "text": [
      "For episode 0 we get an internal sharpe ratio of 0.09711857379860205\n"
     ]
    },
    {
     "name": "stderr",
     "output_type": "stream",
     "text": [
      "C:\\Users\\Pastor\\AppData\\Local\\Temp/ipykernel_5016/136452210.py:142: RuntimeWarning: invalid value encountered in double_scalars\n",
      "  return np.nanmean(returns) / np.nanstd(returns)\n"
     ]
    },
    {
     "name": "stdout",
     "output_type": "stream",
     "text": [
      "For episode 1 we get an internal sharpe ratio of nan\n"
     ]
    },
    {
     "name": "stderr",
     "output_type": "stream",
     "text": [
      "C:\\Users\\Pastor\\AppData\\Local\\Temp/ipykernel_5016/136452210.py:142: RuntimeWarning: invalid value encountered in double_scalars\n",
      "  return np.nanmean(returns) / np.nanstd(returns)\n"
     ]
    },
    {
     "name": "stdout",
     "output_type": "stream",
     "text": [
      "For episode 2 we get an internal sharpe ratio of nan\n",
      "For episode 3 we get an internal sharpe ratio of 0.030493418932937277\n",
      "For episode 4 we get an internal sharpe ratio of 0.17574041951883274\n",
      "For episode 5 we get an internal sharpe ratio of 0.13535154280478404\n"
     ]
    },
    {
     "data": {
      "image/png": "[encoded data removed]",
      "text/plain": [
       "<Figure size 432x288 with 1 Axes>"
      ]
     },
     "metadata": {
      "needs_background": "light"
     },
     "output_type": "display_data"
    }
   ],
   "source": [
    "q.graph_portfolios()"
   ]
  },
  {
   "cell_type": "markdown",
   "metadata": {},
   "source": []
  }
 ],
 "metadata": {
  "interpreter": {
   "hash": "018856fe8cea192e9aca0ec6d319ce5aaed29515e0139f12e4cf38054a146782"
  },
  "kernelspec": {
   "display_name": "Python 3.8.8 64-bit ('py38': conda)",
   "language": "python",
   "name": "python3"
  },
  "language_info": {
   "codemirror_mode": {
    "name": "ipython",
    "version": 3
   },
   "file_extension": ".py",
   "mimetype": "text/x-python",
   "name": "python",
   "nbconvert_exporter": "python",
   "pygments_lexer": "ipython3",
   "version": "3.8.8"
  },
  "orig_nbformat": 4
 },
 "nbformat": 4,
 "nbformat_minor": 2
}
